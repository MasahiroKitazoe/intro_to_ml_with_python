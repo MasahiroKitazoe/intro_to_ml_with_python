{
 "cells": [
  {
   "cell_type": "markdown",
   "metadata": {},
   "source": [
    "### ナイーブベイズクラス分類器\n",
    "\n",
    "- 訓練が線形モデルよりも高速\n",
    "    - クラスに対する統計値を個々の特徴量ごとに集めて、パラメータを学習するから\n",
    "- 代償として、汎化性能はLogisticRegressionやLinearXVCよりもやや劣る\n",
    "- scikit-learnにある３種のナイーブベイズクラス分類器\n",
    "    - GaussianNB(任意の連続値データに適用できる)\n",
    "    - BernoulliNB(２値データを仮定している) -> クラス分類に使われる\n",
    "    - MultinomiaNB(カウントデータを仮定している)　-> クラス分類に使われる"
   ]
  },
  {
   "cell_type": "code",
   "execution_count": 2,
   "metadata": {
    "collapsed": true
   },
   "outputs": [],
   "source": [
    "import pandas as pd\n",
    "import numpy as np\n",
    "import matplotlib.pyplot as plt\n",
    "import mglearn\n",
    "%matplotlib inline\n",
    "from IPython.display import display\n",
    "from sklearn.model_selection import train_test_split"
   ]
  },
  {
   "cell_type": "code",
   "execution_count": 3,
   "metadata": {},
   "outputs": [],
   "source": [
    "X = np.array([[0, 1, 0, 1],\n",
    "                       [1, 0,1,1],\n",
    "                       [0,0,0,1],\n",
    "                       [1, 0, 1, 0]])\n",
    "y = np.array([0, 1, 0, 1])"
   ]
  },
  {
   "cell_type": "code",
   "execution_count": 5,
   "metadata": {},
   "outputs": [
    {
     "name": "stdout",
     "output_type": "stream",
     "text": [
      "Feature counts: \n",
      "{0: array([0, 1, 0, 2]), 1: array([2, 0, 2, 1])}\n"
     ]
    }
   ],
   "source": [
    "counts = {}\n",
    "for label in np.unique(y):\n",
    "    #クラスに対してループ\n",
    "    # それぞれの特徴量毎に非ゼロの数を（加算で）数える\n",
    "    counts[label] = X[y == label].sum(axis=0)\n",
    "print(\"Feature counts: \\n{}\".format(counts))"
   ]
  },
  {
   "cell_type": "markdown",
   "metadata": {},
   "source": [
    "### 利点、欠点、パラメータ\n",
    "\n",
    "- MultinomiaNBとBernoulliNBには、モデルの複雑さを制御するalphaというパラメータが一つある\n",
    "- GaussianNBは高次元データに使われるが、他の二つは、テキストのような疎なカウントデータにも使われる\n",
    "- ナイーブベイズモデルの主な利点や欠点は線形モデルと同じ\n",
    "    - ただし、速さの点で、ナイーブベイズモデルは線形モデルを上回るメリットがある"
   ]
  },
  {
   "cell_type": "code",
   "execution_count": null,
   "metadata": {
    "collapsed": true
   },
   "outputs": [],
   "source": []
  }
 ],
 "metadata": {
  "kernelspec": {
   "display_name": "Python 3",
   "language": "python",
   "name": "python3"
  },
  "language_info": {
   "codemirror_mode": {
    "name": "ipython",
    "version": 3
   },
   "file_extension": ".py",
   "mimetype": "text/x-python",
   "name": "python",
   "nbconvert_exporter": "python",
   "pygments_lexer": "ipython3",
   "version": "3.6.1"
  }
 },
 "nbformat": 4,
 "nbformat_minor": 2
}
