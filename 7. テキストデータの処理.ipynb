{
 "cells": [
  {
   "cell_type": "code",
   "execution_count": 13,
   "metadata": {
    "collapsed": true
   },
   "outputs": [],
   "source": [
    "import pandas as pd\n",
    "import numpy as np\n",
    "import matplotlib.pyplot as plt\n",
    "import mglearn\n",
    "%matplotlib inline\n",
    "from IPython.display import display\n",
    "from sklearn.model_selection import train_test_split"
   ]
  },
  {
   "cell_type": "code",
   "execution_count": 8,
   "metadata": {},
   "outputs": [
    {
     "name": "stdout",
     "output_type": "stream",
     "text": [
      "data/aclImdb\r\n",
      "├── test\r\n",
      "│   ├── neg\r\n",
      "│   └── pos\r\n",
      "└── train\r\n",
      "    ├── neg\r\n",
      "    ├── pos\r\n",
      "    └── unsup\r\n",
      "\r\n",
      "7 directories\r\n"
     ]
    }
   ],
   "source": [
    "!tree -dL 2 data/aclImdb"
   ]
  },
  {
   "cell_type": "code",
   "execution_count": 9,
   "metadata": {
    "collapsed": true
   },
   "outputs": [],
   "source": [
    "!rm -r data/aclImdb/train/unsup"
   ]
  },
  {
   "cell_type": "code",
   "execution_count": 10,
   "metadata": {},
   "outputs": [
    {
     "name": "stdout",
     "output_type": "stream",
     "text": [
      "type of text_train: <class 'list'>\n",
      "length of text_train: 25000\n",
      "text_train[1]:\n",
      "b'Words can\\'t describe how bad this movie is. I can\\'t explain it by writing only. You have too see it for yourself to get at grip of how horrible a movie really can be. Not that I recommend you to do that. There are so many clich\\xc3\\xa9s, mistakes (and all other negative things you can imagine) here that will just make you cry. To start with the technical first, there are a LOT of mistakes regarding the airplane. I won\\'t list them here, but just mention the coloring of the plane. They didn\\'t even manage to show an airliner in the colors of a fictional airline, but instead used a 747 painted in the original Boeing livery. Very bad. The plot is stupid and has been done many times before, only much, much better. There are so many ridiculous moments here that i lost count of it really early. Also, I was on the bad guys\\' side all the time in the movie, because the good guys were so stupid. \"Executive Decision\" should without a doubt be you\\'re choice over this one, even the \"Turbulence\"-movies are better. In fact, every other movie in the world is better than this one.'\n"
     ]
    }
   ],
   "source": [
    "#訓練データを読み込む\n",
    "from sklearn.datasets import load_files\n",
    "\n",
    "reviews_train = load_files(\"data/aclImdb/train/\")\n",
    "#load_filesは一連の訓練テキストと訓練ラベルを返す\n",
    "text_train, y_train = reviews_train.data, reviews_train.target\n",
    "print(\"type of text_train: {}\".format(type(text_train)))\n",
    "print(\"length of text_train: {}\".format(len(text_train)))\n",
    "print(\"text_train[1]:\\n{}\".format(text_train[1]))"
   ]
  },
  {
   "cell_type": "code",
   "execution_count": 11,
   "metadata": {
    "collapsed": true
   },
   "outputs": [],
   "source": [
    "# <br />を取り除く\n",
    "text_train = [doc.replace(b\"<br />\", b\" \") for doc in text_train]"
   ]
  },
  {
   "cell_type": "code",
   "execution_count": 14,
   "metadata": {},
   "outputs": [
    {
     "name": "stdout",
     "output_type": "stream",
     "text": [
      "Samples per class (training): [12500 12500]\n"
     ]
    }
   ],
   "source": [
    "print(\"Samples per class (training): {}\".format(np.bincount(y_train)))"
   ]
  },
  {
   "cell_type": "code",
   "execution_count": 15,
   "metadata": {},
   "outputs": [
    {
     "name": "stdout",
     "output_type": "stream",
     "text": [
      "Number of documents in test data: 25000\n",
      "Samples per class (test): [12500 12500]\n"
     ]
    }
   ],
   "source": [
    "#テストデータセットのロード\n",
    "reviews_test = load_files(\"data/aclImdb/test/\")\n",
    "text_test, y_test = reviews_test.data, reviews_test.target\n",
    "print(\"Number of documents in test data: {}\".format(len(text_test)))\n",
    "print(\"Samples per class (test): {}\".format(np.bincount((y_test))))\n",
    "text_test = [doc.replace(b\"<br />\", b\" \") for doc in text_test]"
   ]
  },
  {
   "cell_type": "markdown",
   "metadata": {},
   "source": [
    "### Bag of Words\n",
    "\n",
    "- 章立て、パラグラフ、文章、フォーマットなどの入力テキストのもつ構造のほとんどすべてが失われ、単語がテキストに現れる回数だけが数えられる\n",
    "- テキストを袋（Bag）に見立て、そこに単語が入っている、というイメージ\n",
    "- 文章の集合であるコーパスに対してBoW表現を計算するには3ステップ必要\n",
    "    - トークン分割（Tokenization） 個々の文書を単語（トークンと呼ぶ）に分割する\n",
    "    - ボキャブラリ構築（Vocabulary building）　すべての文章に現れるすべての単語をボキャブラリとして集め、番号をつける\n",
    "    - エンコード 　個々の文書に対して、ボキャブラリが現れる回数を数える"
   ]
  },
  {
   "cell_type": "markdown",
   "metadata": {},
   "source": [
    "#### トイデータセットに対するBoW"
   ]
  },
  {
   "cell_type": "code",
   "execution_count": 20,
   "metadata": {
    "collapsed": true
   },
   "outputs": [],
   "source": [
    "bards_words = ['The fool doth think he is wise,',\n",
    "              'but the wise man knows himself to be a fool']"
   ]
  },
  {
   "cell_type": "code",
   "execution_count": 21,
   "metadata": {},
   "outputs": [
    {
     "data": {
      "text/plain": [
       "CountVectorizer(analyzer='word', binary=False, decode_error='strict',\n",
       "        dtype=<class 'numpy.int64'>, encoding='utf-8', input='content',\n",
       "        lowercase=True, max_df=1.0, max_features=None, min_df=1,\n",
       "        ngram_range=(1, 1), preprocessor=None, stop_words=None,\n",
       "        strip_accents=None, token_pattern='(?u)\\\\b\\\\w\\\\w+\\\\b',\n",
       "        tokenizer=None, vocabulary=None)"
      ]
     },
     "execution_count": 21,
     "metadata": {},
     "output_type": "execute_result"
    }
   ],
   "source": [
    "from sklearn.feature_extraction.text import CountVectorizer\n",
    "vect = CountVectorizer()\n",
    "vect.fit(bards_words)"
   ]
  },
  {
   "cell_type": "code",
   "execution_count": 22,
   "metadata": {},
   "outputs": [
    {
     "name": "stdout",
     "output_type": "stream",
     "text": [
      "Vocabulary size: 13\n",
      "Vocabulary content: {'the': 9, 'fool': 3, 'doth': 2, 'think': 10, 'he': 4, 'is': 6, 'wise': 12, 'but': 1, 'man': 8, 'knows': 7, 'himself': 5, 'to': 11, 'be': 0}\n"
     ]
    }
   ],
   "source": [
    "print(\"Vocabulary size: {}\".format(len(vect.vocabulary_)))\n",
    "print(\"Vocabulary content: {}\".format(vect.vocabulary_))"
   ]
  },
  {
   "cell_type": "code",
   "execution_count": 23,
   "metadata": {},
   "outputs": [
    {
     "name": "stdout",
     "output_type": "stream",
     "text": [
      "bag_of_words: <2x13 sparse matrix of type '<class 'numpy.int64'>'\n",
      "\twith 16 stored elements in Compressed Sparse Row format>\n"
     ]
    }
   ],
   "source": [
    "bag_of_words = vect.transform(bards_words)\n",
    "print(\"bag_of_words: {}\".format(repr(bag_of_words)))"
   ]
  },
  {
   "cell_type": "markdown",
   "metadata": {},
   "source": [
    "- BoW表現は、SciPyの疎行列として格納されている\n",
    "- このデータ構造は非ゼロの要素しか格納しない\n",
    "- この行列は2*13で、2つのデータポイントに対してそれぞれ行が割り当てられ、ボキャブラリ中の単語に対してそれぞれ特徴量が割り当てられている\n",
    "- 疎行列になっているのは、ほとんどの文書にはボキャブラリ中の単語のごく一部しか用いられず、特徴量に対する要素のほとんどが0になるから\n",
    "- この状態はメモリの無駄なので、密なNumpy行列に変換する"
   ]
  },
  {
   "cell_type": "code",
   "execution_count": 24,
   "metadata": {},
   "outputs": [
    {
     "name": "stdout",
     "output_type": "stream",
     "text": [
      "Dense representation of bag_of_words: \n",
      "[[0 0 1 1 1 0 1 0 0 1 1 0 1]\n",
      " [1 1 0 1 0 1 0 1 1 1 0 1 1]]\n"
     ]
    }
   ],
   "source": [
    "print(\"Dense representation of bag_of_words: \\n{}\".format(bag_of_words.toarray()))"
   ]
  },
  {
   "cell_type": "code",
   "execution_count": 25,
   "metadata": {},
   "outputs": [
    {
     "name": "stdout",
     "output_type": "stream",
     "text": [
      "X_train:\n",
      "<25000x74849 sparse matrix of type '<class 'numpy.int64'>'\n",
      "\twith 3431196 stored elements in Compressed Sparse Row format>\n"
     ]
    }
   ],
   "source": [
    "vect = CountVectorizer().fit(text_train)\n",
    "X_train = vect.transform(text_train)\n",
    "print(\"X_train:\\n{}\".format(repr(X_train)))"
   ]
  },
  {
   "cell_type": "markdown",
   "metadata": {},
   "source": [
    "- ボキャブラリは74849単語で構成されている"
   ]
  },
  {
   "cell_type": "code",
   "execution_count": 26,
   "metadata": {},
   "outputs": [
    {
     "name": "stdout",
     "output_type": "stream",
     "text": [
      "Number of features: 74849\n",
      "First 20 Features:\n",
      "['00', '000', '0000000000001', '00001', '00015', '000s', '001', '003830', '006', '007', '0079', '0080', '0083', '0093638', '00am', '00pm', '00s', '01', '01pm', '02']\n",
      "Features 20010 to 20030:\n",
      "['dratted', 'draub', 'draught', 'draughts', 'draughtswoman', 'draw', 'drawback', 'drawbacks', 'drawer', 'drawers', 'drawing', 'drawings', 'drawl', 'drawled', 'drawling', 'drawn', 'draws', 'draza', 'dre', 'drea']\n",
      "Every 2000th feature:\n",
      "['00', 'aesir', 'aquarian', 'barking', 'blustering', 'bête', 'chicanery', 'condensing', 'cunning', 'detox', 'draper', 'enshrined', 'favorit', 'freezer', 'goldman', 'hasan', 'huitieme', 'intelligible', 'kantrowitz', 'lawful', 'maars', 'megalunged', 'mostey', 'norrland', 'padilla', 'pincher', 'promisingly', 'receptionist', 'rivals', 'schnaas', 'shunning', 'sparse', 'subset', 'temptations', 'treatises', 'unproven', 'walkman', 'xylophonist']\n"
     ]
    }
   ],
   "source": [
    "#ボキャブラリを見てみる\n",
    "feature_names = vect.get_feature_names()\n",
    "print(\"Number of features: {}\".format(len(feature_names)))\n",
    "print(\"First 20 Features:\\n{}\".format(feature_names[:20]))\n",
    "print(\"Features 20010 to 20030:\\n{}\".format(feature_names[20010:20030]))\n",
    "print(\"Every 2000th feature:\\n{}\".format(feature_names[::2000]))"
   ]
  },
  {
   "cell_type": "code",
   "execution_count": 29,
   "metadata": {},
   "outputs": [
    {
     "name": "stdout",
     "output_type": "stream",
     "text": [
      "Mean cross-validation accuracy: 0.88\n"
     ]
    }
   ],
   "source": [
    "# モデルを構築してみる\n",
    "from sklearn.model_selection import cross_val_score\n",
    "from sklearn.linear_model import LogisticRegression\n",
    "scores = cross_val_score(LogisticRegression(), X_train, y_train, cv=5)\n",
    "print(\"Mean cross-validation accuracy: {:.2f}\".format(np.mean(scores)))"
   ]
  },
  {
   "cell_type": "code",
   "execution_count": 31,
   "metadata": {},
   "outputs": [
    {
     "name": "stdout",
     "output_type": "stream",
     "text": [
      "Best cross-validation sore: 0.89\n",
      "Best parameters:  {'C': 0.1}\n"
     ]
    }
   ],
   "source": [
    "from sklearn.model_selection import GridSearchCV\n",
    "param_grid= {'C': [0.001, 0.01, 0.1, 1, 10]}\n",
    "grid = GridSearchCV(LogisticRegression(), param_grid, cv=5)\n",
    "grid.fit(X_train, y_train)\n",
    "print(\"Best cross-validation sore: {:.2f}\".format(grid.best_score_))\n",
    "print(\"Best parameters: \", grid.best_params_)"
   ]
  },
  {
   "cell_type": "code",
   "execution_count": 32,
   "metadata": {},
   "outputs": [
    {
     "name": "stdout",
     "output_type": "stream",
     "text": [
      "0.88\n"
     ]
    }
   ],
   "source": [
    "X_test = vect.transform(text_test)\n",
    "print(\"{:.2f}\".format(grid.score(X_test, y_test)))"
   ]
  },
  {
   "cell_type": "markdown",
   "metadata": {},
   "source": [
    "- 単語の抽出を改善したい\n",
    "- 数字のようなあまり意味のないトークンが大量に出されてしまう\n",
    "- 5つ以上の文書に登場するトークンのみに絞って見る"
   ]
  },
  {
   "cell_type": "code",
   "execution_count": 33,
   "metadata": {},
   "outputs": [
    {
     "name": "stdout",
     "output_type": "stream",
     "text": [
      "X_train with min_df:<25000x27271 sparse matrix of type '<class 'numpy.int64'>'\n",
      "\twith 3354014 stored elements in Compressed Sparse Row format>\n"
     ]
    }
   ],
   "source": [
    "vect = CountVectorizer(min_df=5).fit(text_train)\n",
    "X_train = vect.transform(text_train)\n",
    "print(\"X_train with min_df:{}\".format(repr(X_train)))"
   ]
  },
  {
   "cell_type": "code",
   "execution_count": 34,
   "metadata": {},
   "outputs": [
    {
     "name": "stdout",
     "output_type": "stream",
     "text": [
      "First 50 features:\n",
      "['00', '000', '007', '00s', '01', '02', '03', '04', '05', '06', '07', '08', '09', '10', '100', '1000', '100th', '101', '102', '103', '104', '105', '107', '108', '10s', '10th', '11', '110', '112', '116', '117', '11th', '12', '120', '12th', '13', '135', '13th', '14', '140', '14th', '15', '150', '15th', '16', '160', '1600', '16mm', '16s', '16th']\n",
      "Features 20010 to 20030:\n",
      "['repentance', 'repercussions', 'repertoire', 'repetition', 'repetitions', 'repetitious', 'repetitive', 'rephrase', 'replace', 'replaced', 'replacement', 'replaces', 'replacing', 'replay', 'replayable', 'replayed', 'replaying', 'replays', 'replete', 'replica']\n",
      "Every 700th feature: \n",
      "['00', '1909', '1975', '34', '7th', 'ably', 'acceptance', 'acknowledges', 'addictive', 'adoring', 'affections', 'agile', 'aj', 'alienates', 'alphabet', 'ambush', 'analogy', 'angus', 'anthem', 'apocalyptic', 'appropriately', 'arguing', 'arson', 'ass', 'astral', 'attitudes', 'authors', 'awesome', 'backstory', 'balloons', 'barbra', 'basic', 'bea', 'beek', 'belief', 'bereft', 'bewitching', 'binge', 'blades', 'blinking', 'blurbs', 'bolts', 'bootleg', 'boulders', 'braindead', 'breath', 'brim', 'brow', 'buffoons', 'burakov', 'butchered', 'cahulawassee', 'canada', 'capped', 'carlton', 'cashier', 'cats', 'censor', 'chan', 'charm', 'cheese', 'children', 'chores', 'cincinnati', 'clare', 'cleveland', 'closeted', 'coca', 'collapse', 'combinations', 'commitment', 'complain', 'comrade', 'condo', 'conjunction', 'consolation', 'contention', 'converge', 'copycat', 'cosmopolitan', 'courts', 'crap', 'creeper', 'crook', 'cruz', 'curled', 'cylons', 'dang', 'date', 'debacle', 'deconstructed', 'definition', 'delusional', 'dentist', 'derogatory', 'destroying', 'devious', 'dictatorships', 'diminishing', 'disapproval', 'disgraceful', 'dispenses', 'distorted', 'dizzy', 'domain', 'doren', 'dozed', 'dreamworks', 'drudgery', 'dumb', 'dvds', 'easter', 'educate', 'elam', 'ella', 'emergency', 'encompassing', 'engrossing', 'entertainer', 'equals', 'eschews', 'eureka', 'evolves', 'exclusively', 'expectant', 'exposition', 'eyesight', 'fairytale', 'faris', 'faves', 'fell', 'feuding', 'filmfare', 'firm', 'flashes', 'flirt', 'flynn', 'foray', 'formatted', 'frakes', 'freezer', 'frost', 'funnily', 'gall', 'garrison', 'gene', 'gershwin', 'gimmickry', 'glenne', 'goer', 'goriest', 'graffiti', 'grayson', 'grindhouse', 'gruel', 'gump', 'hackers', 'halperin', 'hankies', 'harness', 'hauser', 'heard', 'heigl', 'hercules', 'hierarchy', 'hiroshima', 'holden', 'honors', 'horrifically', 'hrs', 'hungary', 'hypothesis', 'ignore', 'imitating', 'implausibility', 'impulse', 'inconsequential', 'indoor', 'inflated', 'inject', 'insinuate', 'int', 'intermittently', 'intricately', 'invitation', 'irving', 'jackson', 'jayne', 'jews', 'jonas', 'juggle', 'kajol', 'keener', 'kidnap', 'kitt', 'korda', 'laboratory', 'lamp', 'lassalle', 'layered', 'leering', 'les', 'libido', 'limb', 'listing', 'locate', 'loomis', 'lovecraft', 'luise', 'lynne', 'maelstrom', 'making', 'mangled', 'marbles', 'marred', 'massively', 'matuschek', 'mcintyre', 'meditate', 'men', 'messiah', 'midst', 'mindedness', 'misbegotten', 'mistreatment', 'module', 'monroe', 'moritz', 'motorist', 'muir', 'music', 'nabokov', 'nascent', 'nearby', 'nemo', 'nguyen', 'nintendo', 'noose', 'novelty', 'oakley', 'occasional', 'officially', 'onassis', 'opposition', 'origin', 'outgoing', 'overdrawn', 'owed', 'painters', 'panties', 'parking', 'passport', 'paulo', 'peeking', 'perceptions', 'persecuted', 'pfeiffer', 'physics', 'pinchot', 'plagiarism', 'pleasantville', 'poehler', 'polly', 'portray', 'poured', 'preceding', 'prepares', 'prettier', 'privileged', 'profile', 'pronunciation', 'proud', 'publication', 'pupils', 'quagmire', 'quiroz', 'raging', 'randall', 'rating', 'realism', 'recipient', 'recuperate', 'refined', 'regularly', 'relena', 'remix', 'replacement', 'res', 'resources', 'retelling', 'reviews', 'rib', 'rigid', 'roam', 'rogue', 'rosalba', 'royally', 'runs', 'saddest', 'sam', 'sas', 'sayings', 'schedule', 'scoring', 'scripts', 'secondary', 'selection', 'sentiments', 'settlement', 'shakespeare', 'shea', 'shipment', 'shotguns', 'shuts', 'sikes', 'singlehandedly', 'skeptic', 'slashes', 'slit', 'smelly', 'sneers', 'sociopaths', 'somersaults', 'soundstage', 'spate', 'spices', 'spongebob', 'squadron', 'stained', 'starsky', 'steiger', 'sting', 'stormtroopers', 'streetwise', 'strung', 'stéphane', 'subverting', 'suits', 'superpower', 'surrendered', 'swastika', 'sworn', 'tabloid', 'tamara', 'tastes', 'techniques', 'tempt', 'terror', 'thematic', 'tho', 'thrusting', 'tilted', 'tobey', 'toothache', 'touching', 'trailers', 'transportation', 'trelkovsky', 'triton', 'truthfully', 'tvs', 'ugliest', 'uncaring', 'underlined', 'uneasiness', 'unhinged', 'unlock', 'unsatisfied', 'unworthy', 'user', 'vampyre', 'vengeance', 'viable', 'vikings', 'vision', 'voted', 'walkin', 'warmer', 'waterworld', 'weed', 'westerns', 'whistle', 'wildlife', 'wins', 'wo', 'works', 'wring', 'yanks', 'youngster', 'zhang']\n"
     ]
    }
   ],
   "source": [
    "feature_names = vect.get_feature_names()\n",
    "\n",
    "print(\"First 50 features:\\n{}\".format(feature_names[:50]))\n",
    "print(\"Features 20010 to 20030:\\n{}\".format(feature_names[20010:20030]))\n",
    "print(\"Every 700th feature: \\n{}\".format(feature_names[::70]))"
   ]
  },
  {
   "cell_type": "code",
   "execution_count": 35,
   "metadata": {},
   "outputs": [
    {
     "name": "stdout",
     "output_type": "stream",
     "text": [
      "Best cross-validation sore: 0.89\n"
     ]
    }
   ],
   "source": [
    "grid = GridSearchCV(LogisticRegression(), param_grid, cv=5)\n",
    "grid.fit(X_train, y_train)\n",
    "print(\"Best cross-validation sore: {:.2f}\".format(grid.best_score_))"
   ]
  },
  {
   "cell_type": "markdown",
   "metadata": {},
   "source": [
    "- 精度は変わらないが、予測に必要な変数を削れたことには意味がある"
   ]
  },
  {
   "cell_type": "markdown",
   "metadata": {},
   "source": [
    "### ストップワード\n",
    "\n",
    "- 役に立たない単語を取り除くもう一つの方法として、あまりに頻出するため役に立たない単語を捨てる方法がある\n",
    "- 言語固有のストップワードを使う方法と、頻度の高い単語を捨てる方法がある"
   ]
  },
  {
   "cell_type": "code",
   "execution_count": 38,
   "metadata": {},
   "outputs": [
    {
     "name": "stdout",
     "output_type": "stream",
     "text": [
      "Number of stop words: 318\n",
      "Every 10th stopword:\n",
      "['are', 'towards', 'i', 'those', 'no', 'detail', 'somewhere', 'forty', 'co', 'thereafter', 'formerly', 'someone', 'others', 'thus', 'only', 'mine', 'almost', 'about', 'ie', 'must', 'thence', 'yourselves', 'an', 'after', 'can', 'interest', 'while', 'side', 'us', 'onto', 'on', 'whenever']\n"
     ]
    }
   ],
   "source": [
    "# ストップワードを見て見る\n",
    "from sklearn.feature_extraction.text import ENGLISH_STOP_WORDS\n",
    "print(\"Number of stop words: {}\".format(len(ENGLISH_STOP_WORDS)))\n",
    "print(\"Every 10th stopword:\\n{}\".format(list(ENGLISH_STOP_WORDS)[::10]))"
   ]
  },
  {
   "cell_type": "code",
   "execution_count": 40,
   "metadata": {},
   "outputs": [
    {
     "name": "stdout",
     "output_type": "stream",
     "text": [
      "X_train with stop words:\n",
      "<25000x26966 sparse matrix of type '<class 'numpy.int64'>'\n",
      "\twith 2149958 stored elements in Compressed Sparse Row format>\n"
     ]
    }
   ],
   "source": [
    "vect = CountVectorizer(min_df=5, stop_words=\"english\").fit(text_train)\n",
    "X_train = vect.transform(text_train)\n",
    "print(\"X_train with stop words:\\n{}\".format(repr(X_train)))"
   ]
  },
  {
   "cell_type": "code",
   "execution_count": 41,
   "metadata": {},
   "outputs": [
    {
     "name": "stdout",
     "output_type": "stream",
     "text": [
      "Best cross-validation sore: 0.88\n"
     ]
    }
   ],
   "source": [
    "grid = GridSearchCV(LogisticRegression(), param_grid, cv=5)\n",
    "grid.fit(X_train, y_train)\n",
    "print(\"Best cross-validation sore: {:.2f}\".format(grid.best_score_))"
   ]
  },
  {
   "cell_type": "markdown",
   "metadata": {},
   "source": [
    "## トピックモデリングと文書クラスタリング"
   ]
  },
  {
   "cell_type": "markdown",
   "metadata": {},
   "source": [
    "## LDA(Latent Dirchlet Allocation)\n",
    "\n",
    "- LDAは同時に現れる頻度の高い単語の集合（トピック）を探す\n",
    "- 機械学習モデルで言う所の「トピック」は、PCAやNMFの成分に近く、解釈できる意味を持つかもしれないし持たないかもしれない\n",
    "- トピックモデリングは教師なし学習となるので、一般的な単語が解析に影響を与えすぎないように、取り除いたほうが良いとされる"
   ]
  },
  {
   "cell_type": "code",
   "execution_count": 43,
   "metadata": {},
   "outputs": [],
   "source": [
    "vect = CountVectorizer(max_features=10000, max_df=.15)\n",
    "X = vect.fit_transform(text_train)"
   ]
  },
  {
   "cell_type": "code",
   "execution_count": 47,
   "metadata": {},
   "outputs": [],
   "source": [
    "from sklearn.decomposition import LatentDirichletAllocation\n",
    "lda = LatentDirichletAllocation(n_topics=10, learning_method=\"batch\", max_iter=25, random_state=0)\n",
    "#ここでは、モデルの構築と変換を一度に行う\n",
    "# 変換には時間がかかるが、同時に行うことで時間を節約することができる\n",
    "document_topics = lda.fit_transform(X)"
   ]
  },
  {
   "cell_type": "code",
   "execution_count": 48,
   "metadata": {},
   "outputs": [
    {
     "data": {
      "text/plain": [
       "(10, 10000)"
      ]
     },
     "execution_count": 48,
     "metadata": {},
     "output_type": "execute_result"
    }
   ],
   "source": [
    "lda.components_.shape"
   ]
  },
  {
   "cell_type": "code",
   "execution_count": 49,
   "metadata": {
    "collapsed": true
   },
   "outputs": [],
   "source": [
    "#トピックの意味を理解するために、それぞれのトピックについて重要な単語を見てみる\n",
    "\n",
    "#それぞれのトピック（compenents_の行）に対して、特徴量を昇順でソート\n",
    "#ソートを降順にするために[:, ::-1]で行を反転\n",
    "sorting = np.argsort(lda.components_, axis=1)[:, ::-1]\n",
    "# vectorizerから特徴量を取得\n",
    "feature_names = np.array(vect.get_feature_names())"
   ]
  },
  {
   "cell_type": "code",
   "execution_count": 50,
   "metadata": {},
   "outputs": [
    {
     "name": "stdout",
     "output_type": "stream",
     "text": [
      "topic 0       topic 1       topic 2       topic 3       topic 4       \n",
      "--------      --------      --------      --------      --------      \n",
      "between       war           funny         show          didn          \n",
      "young         world         worst         series        saw           \n",
      "family        us            comedy        episode       am            \n",
      "real          our           thing         tv            thought       \n",
      "performance   american      guy           episodes      years         \n",
      "beautiful     documentary   re            shows         book          \n",
      "work          history       stupid        season        watched       \n",
      "each          new           actually      new           now           \n",
      "both          own           nothing       television    dvd           \n",
      "director      point         want          years         got           \n",
      "\n",
      "\n",
      "topic 5       topic 6       topic 7       topic 8       topic 9       \n",
      "--------      --------      --------      --------      --------      \n",
      "horror        kids          cast          performance   house         \n",
      "action        action        role          role          woman         \n",
      "effects       animation     john          john          gets          \n",
      "budget        game          version       actor         killer        \n",
      "nothing       fun           novel         oscar         girl          \n",
      "original      disney        both          cast          wife          \n",
      "director      children      director      plays         horror        \n",
      "minutes       10            played        jack          young         \n",
      "pretty        kid           performance   joe           goes          \n",
      "doesn         old           mr            performances  around        \n",
      "\n",
      "\n"
     ]
    }
   ],
   "source": [
    "#最初の10トピックを表示\n",
    "mglearn.tools.print_topics(topics=range(10), feature_names=feature_names, sorting=sorting, topics_per_chunk=5, n_words=10)"
   ]
  },
  {
   "cell_type": "code",
   "execution_count": 51,
   "metadata": {
    "collapsed": true
   },
   "outputs": [],
   "source": [
    "# 100トピックでモデルを作ってみる\n",
    "lda100 = LatentDirichletAllocation(n_topics=100, learning_method=\"batch\", max_iter=25, random_state=0)\n",
    "document_topics100 = lda100.fit_transform(X)"
   ]
  },
  {
   "cell_type": "code",
   "execution_count": 52,
   "metadata": {},
   "outputs": [
    {
     "name": "stdout",
     "output_type": "stream",
     "text": [
      "topic 7       topic 16      topic 24      topic 25      topic 28      topic 36      topic 37      \n",
      "--------      --------      --------      --------      --------      --------      --------      \n",
      "thriller      worst         german        car           beautiful     performance   excellent     \n",
      "suspense      awful         hitler        gets          young         role          highly        \n",
      "horror        boring        nazi          guy           old           actor         amazing       \n",
      "atmosphere    horrible      midnight      around        romantic      cast          wonderful     \n",
      "mystery       stupid        joe           down          between       play          truly         \n",
      "house         thing         germany       kill          romance       actors        superb        \n",
      "director      terrible      years         goes          wonderful     performances  actors        \n",
      "quite         script        history       killed        heart         played        brilliant     \n",
      "bit           nothing       new           going         feel          supporting    recommend     \n",
      "de            worse         modesty       house         year          director      quite         \n",
      "performances  waste         cowboy        away          each          oscar         performance   \n",
      "dark          pretty        jewish        head          french        roles         performances  \n",
      "twist         minutes       past          take          sweet         actress       perfect       \n",
      "hitchcock     didn          kirk          another       boy           excellent     drama         \n",
      "tension       actors        young         getting       loved         screen        without       \n",
      "interesting   actually      spanish       doesn         girl          plays         beautiful     \n",
      "mysterious    re            enterprise    now           relationship  award         human         \n",
      "murder        supposed      von           night         saw           work          moving        \n",
      "ending        mean          nazis         right         both          playing       world         \n",
      "creepy        want          spock         woman         simple        gives         recommended   \n",
      "\n",
      "\n",
      "topic 45      topic 51      topic 53      topic 54      topic 63      topic 89      topic 97      \n",
      "--------      --------      --------      --------      --------      --------      --------      \n",
      "music         earth         scott         money         funny         dead          didn          \n",
      "song          space         gary          budget        comedy        zombie        thought       \n",
      "songs         planet        streisand     actors        laugh         gore          wasn          \n",
      "rock          superman      star          low           jokes         zombies       ending        \n",
      "band          alien         hart          worst         humor         blood         minutes       \n",
      "soundtrack    world         lundgren      waste         hilarious     horror        got           \n",
      "singing       evil          dolph         10            laughs        flesh         felt          \n",
      "voice         humans        career        give          fun           minutes       part          \n",
      "singer        aliens        sabrina       want          re            body          going         \n",
      "sing          human         role          nothing       funniest      living        seemed        \n",
      "musical       creatures     temple        terrible      laughing      eating        bit           \n",
      "roll          miike         phantom       crap          joke          flick         found         \n",
      "fan           monsters      judy          must          few           budget        though        \n",
      "metal         apes          melissa       reviews       moments       head          nothing       \n",
      "concert       clark         zorro         imdb          guy           gory          lot           \n",
      "playing       burton        gets          director      unfunny       evil          saw           \n",
      "hear          tim           barbra        thing         times         shot          long          \n",
      "fans          outer         cast          believe       laughed       low           interesting   \n",
      "prince        men           short         am            comedies      fulci         few           \n",
      "especially    moon          serial        actually      isn           re            half          \n",
      "\n",
      "\n"
     ]
    }
   ],
   "source": [
    "topics = np.array([7, 16, 24, 25, 28, 36, 37, 45, 51, 53, 54, 63, 89, 97])\n",
    "\n",
    "sorting = np.argsort(lda100.components_, axis=1)[:, ::-1]\n",
    "feature_names = np.array(vect.get_feature_names())\n",
    "mglearn.tools.print_topics(topics=topics, feature_names=feature_names, sorting=sorting, topics_per_chunk=7, n_words=20)"
   ]
  },
  {
   "cell_type": "code",
   "execution_count": 56,
   "metadata": {},
   "outputs": [
    {
     "data": {
      "image/png": "[encoded data removed]",
      "text/plain": [
       "<matplotlib.figure.Figure at 0x1193288d0>"
      ]
     },
     "metadata": {},
     "output_type": "display_data"
    }
   ],
   "source": [
    "fig, ax = plt.subplots(1, 2, figsize=(10, 10))\n",
    "topic_names = [\"{:>2}\".format(i) + \" \".join(words)\n",
    "                          for i, words in enumerate(feature_names[sorting[:, :2]])]\n",
    "#２カラムの棒グラフ\n",
    "for col in [0, 1]:\n",
    "    start = col * 50\n",
    "    end = (col + 1) * 50\n",
    "    ax[col].barh(np.arange(50), np.sum(document_topics100, axis=0)[start:end])\n",
    "    ax[col].set_yticks(np.arange(50))\n",
    "    ax[col].set_yticklabels(topic_names[start:end], ha=\"left\", va=\"top\")\n",
    "    ax[col].invert_yaxis()\n",
    "    ax[col].set_xlim(0, 2000)\n",
    "    yax = ax[col].get_yaxis()\n",
    "    yax.set_tick_params(pad=130)\n",
    "plt.tight_layout()"
   ]
  },
  {
   "cell_type": "code",
   "execution_count": null,
   "metadata": {
    "collapsed": true
   },
   "outputs": [],
   "source": []
  }
 ],
 "metadata": {
  "kernelspec": {
   "display_name": "Python 3",
   "language": "python",
   "name": "python3"
  },
  "language_info": {
   "codemirror_mode": {
    "name": "ipython",
    "version": 3
   },
   "file_extension": ".py",
   "mimetype": "text/x-python",
   "name": "python",
   "nbconvert_exporter": "python",
   "pygments_lexer": "ipython3",
   "version": "3.6.1"
  }
 },
 "nbformat": 4,
 "nbformat_minor": 2
}
